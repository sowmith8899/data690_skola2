{
  "nbformat": 4,
  "nbformat_minor": 0,
  "metadata": {
    "colab": {
      "provenance": [],
      "authorship_tag": "ABX9TyPTuO3k08ddbJCCPwjbLqBL",
      "include_colab_link": true
    },
    "kernelspec": {
      "name": "python3",
      "display_name": "Python 3"
    },
    "language_info": {
      "name": "python"
    }
  },
  "cells": [
    {
      "cell_type": "markdown",
      "metadata": {
        "id": "view-in-github",
        "colab_type": "text"
      },
      "source": [
        "<a href=\"https://colab.research.google.com/github/sowmith8899/data690_skola2/blob/main/assignment_03/assignment_03.ipynb\" target=\"_parent\"><img src=\"https://colab.research.google.com/assets/colab-badge.svg\" alt=\"Open In Colab\"/></a>"
      ]
    },
    {
      "cell_type": "markdown",
      "source": [
        "## The Problem:\n",
        "Write a program that generates 100 random integers between 0 and 9. "
      ],
      "metadata": {
        "id": "1L_uR5lFnuDu"
      }
    },
    {
      "cell_type": "markdown",
      "source": [
        "Print them in a 10 by 10 matrix neatly arranged like the following (one space between each number):\n",
        "```\n",
        "5 1 5 6 2 7 8 6 4 2 \n",
        "2 3 7 0 6 9 2 4 2 8 \n",
        "0 0 8 6 4 1 7 2 7 6 \n",
        "0 1 9 0 0 8 5 8 6 8 \n",
        "4 1 0 5 5 7 4 6 4 4 \n",
        "6 0 2 0 1 9 8 2 3 9 \n",
        "4 0 4 8 1 7 6 6 2 1 \n",
        "1 7 6 8 5 4 1 9 6 7 \n",
        "6 4 7 9 9 3 8 2 6 1 \n",
        "9 0 6 4 0 1 0 6 9 9 \n",
        "```\n"
      ],
      "metadata": {
        "id": "87c7eBVOn1Th"
      }
    },
    {
      "cell_type": "code",
      "source": [
        "import random \n",
        "\n",
        "li=[]\n",
        "for i in range (0,10):\n",
        "  l= []\n",
        "  for j in range (0,10) :\n",
        "    a= random.randint(0,9)\n",
        "    l.append(a)\n",
        "  li.append(l)\n",
        "\n",
        "for i in range (0,10):\n",
        "  for j in range (0,10):\n",
        "    print(li[i][j],end = \" \")\n",
        "  print(\"\\n\")\n"
      ],
      "metadata": {
        "colab": {
          "base_uri": "https://localhost:8080/"
        },
        "id": "TqhGnlsQVD0y",
        "outputId": "425a4bc0-64d6-428a-f65c-2c5e0a6759e6"
      },
      "execution_count": 1,
      "outputs": [
        {
          "output_type": "stream",
          "name": "stdout",
          "text": [
            "0 5 7 4 7 6 3 7 0 4 \n",
            "\n",
            "7 8 5 8 1 7 9 1 4 2 \n",
            "\n",
            "5 7 5 4 5 1 9 3 0 1 \n",
            "\n",
            "3 3 0 0 0 9 6 2 8 7 \n",
            "\n",
            "7 2 7 1 8 2 9 8 9 8 \n",
            "\n",
            "0 6 0 2 5 4 5 4 8 9 \n",
            "\n",
            "6 1 1 7 0 0 2 8 3 2 \n",
            "\n",
            "3 9 7 0 8 9 1 4 2 6 \n",
            "\n",
            "3 5 0 0 4 9 6 2 1 3 \n",
            "\n",
            "7 7 2 0 7 2 4 3 8 0 \n",
            "\n"
          ]
        }
      ]
    },
    {
      "cell_type": "markdown",
      "source": [
        "If the random number is an odd number, print \"@\" instead.  like the following:\n",
        "```\n",
        "@ @ 0 2 6 @ 8 8 0 0 \n",
        "@ 4 @ 4 4 @ 2 @ 2 2 \n",
        "@ 6 8 @ @ @ 0 @ 0 @ \n",
        "2 6 @ 0 @ 2 @ @ 0 @ \n",
        "8 4 @ @ @ 0 @ @ 6 @ \n",
        "@ @ 4 6 @ @ @ 2 @ 2 \n",
        "@ @ @ @ 4 @ @ 2 2 0 \n",
        "@ 6 @ 0 0 8 @ 2 0 @ \n",
        "8 8 @ @ @ 0 0 @ 4 6 \n",
        "@ 2 2 6 8 2 @ @ @ 6\n",
        "```"
      ],
      "metadata": {
        "id": "H6F8DKWOZc_b"
      }
    },
    {
      "cell_type": "code",
      "source": [
        "for i in range (0,10):\n",
        "  for j in range (0,10):\n",
        "    if (li[i][j] % 2 != 0):\n",
        "      print(\"@\",end = \" \")\n",
        "    else:\n",
        "      print(li[i][j],end = \" \")\n",
        "  print(\"\\n\")\n"
      ],
      "metadata": {
        "colab": {
          "base_uri": "https://localhost:8080/"
        },
        "id": "3DNKqMMicxTm",
        "outputId": "f3e0dafd-b754-4ad7-99e3-0500a1abb1f4"
      },
      "execution_count": 2,
      "outputs": [
        {
          "output_type": "stream",
          "name": "stdout",
          "text": [
            "0 @ @ 4 @ 6 @ @ 0 4 \n",
            "\n",
            "@ 8 @ 8 @ @ @ @ 4 2 \n",
            "\n",
            "@ @ @ 4 @ @ @ @ 0 @ \n",
            "\n",
            "@ @ 0 0 0 @ 6 2 8 @ \n",
            "\n",
            "@ 2 @ @ 8 2 @ 8 @ 8 \n",
            "\n",
            "0 6 0 2 @ 4 @ 4 8 @ \n",
            "\n",
            "6 @ @ @ 0 0 2 8 @ 2 \n",
            "\n",
            "@ @ @ 0 8 @ @ 4 2 6 \n",
            "\n",
            "@ @ 0 0 4 @ 6 2 @ @ \n",
            "\n",
            "@ @ 2 0 @ 2 4 @ 8 0 \n",
            "\n"
          ]
        }
      ]
    },
    {
      "cell_type": "markdown",
      "source": [
        "Calculate and Print the total of each row like the following (use \"*\" to separate the total from the numbers):\n",
        "```\n",
        "7 6 5 8 8 0 7 6 0 1 * 48 \n",
        "8 5 7 9 8 0 9 3 0 1 * 50 \n",
        "4 0 3 5 3 9 0 8 3 9 * 44 \n",
        "3 5 5 3 8 3 4 3 2 2 * 38 \n",
        "7 7 4 1 2 7 2 3 0 8 * 41 \n",
        "3 9 7 7 0 9 4 0 6 5 * 50 \n",
        "1 9 7 1 3 0 0 1 4 5 * 31 \n",
        "4 4 0 6 7 4 5 6 9 3 * 48 \n",
        "2 1 1 4 2 0 1 2 9 2 * 24\n",
        "2 1 6 7 7 8 1 0 0 4 * 36\n",
        "```"
      ],
      "metadata": {
        "id": "TD6_TuwadJyn"
      }
    },
    {
      "cell_type": "code",
      "source": [
        "for i in range (0,10):\n",
        "  cnt = 0\n",
        "  for j in range (0,10):\n",
        "    cnt =  cnt + (li[i][j])\n",
        "    print(li[i][j],end = \" \")\n",
        "  print(\"*\",cnt)\n",
        "  print(\"\\n\")"
      ],
      "metadata": {
        "colab": {
          "base_uri": "https://localhost:8080/"
        },
        "id": "BCv48sQDdSxi",
        "outputId": "2e06a093-f140-4984-ebfd-b46b7c19d9f9"
      },
      "execution_count": 5,
      "outputs": [
        {
          "output_type": "stream",
          "name": "stdout",
          "text": [
            "0 5 7 4 7 6 3 7 0 4 * 43\n",
            "\n",
            "\n",
            "7 8 5 8 1 7 9 1 4 2 * 52\n",
            "\n",
            "\n",
            "5 7 5 4 5 1 9 3 0 1 * 40\n",
            "\n",
            "\n",
            "3 3 0 0 0 9 6 2 8 7 * 38\n",
            "\n",
            "\n",
            "7 2 7 1 8 2 9 8 9 8 * 61\n",
            "\n",
            "\n",
            "0 6 0 2 5 4 5 4 8 9 * 43\n",
            "\n",
            "\n",
            "6 1 1 7 0 0 2 8 3 2 * 30\n",
            "\n",
            "\n",
            "3 9 7 0 8 9 1 4 2 6 * 49\n",
            "\n",
            "\n",
            "3 5 0 0 4 9 6 2 1 3 * 33\n",
            "\n",
            "\n",
            "7 7 2 0 7 2 4 3 8 0 * 40\n",
            "\n",
            "\n"
          ]
        }
      ]
    },
    {
      "cell_type": "markdown",
      "source": [
        "Surround the matrix with asterisks (*) like the following:\n",
        "\n",
        "```\n",
        "***********************\n",
        "* 5 1 5 6 2 7 8 6 4 2 *\n",
        "* 2 3 7 0 6 9 2 4 2 8 *\n",
        "* 0 0 8 6 4 1 7 2 7 6 *\n",
        "* 0 1 9 0 0 8 5 8 6 8 *\n",
        "* 4 1 0 5 5 7 4 6 4 4 *\n",
        "* 6 0 2 0 1 9 8 2 3 9 *\n",
        "* 4 0 4 8 1 7 6 6 2 1 *\n",
        "* 1 7 6 8 5 4 1 9 6 7 *\n",
        "* 6 4 7 9 9 3 8 2 6 1 *\n",
        "* 9 0 6 4 0 1 0 6 9 9 *\n",
        "***********************\n",
        "```"
      ],
      "metadata": {
        "id": "-EqLmiPYeO2O"
      }
    },
    {
      "cell_type": "code",
      "source": [
        "print(\"*\" * 23)\n",
        "for i in range (0,10):\n",
        "  print(\"*\",end = \" \")\n",
        "  for j in range (0,10):\n",
        "    print(li[i][j],end = \" \")\n",
        "  print(\"*\",end = \" \")\n",
        "  print(\"\\n\")\n",
        "print(\"*\" * 23)"
      ],
      "metadata": {
        "colab": {
          "base_uri": "https://localhost:8080/"
        },
        "id": "AKvPf4b6eaN1",
        "outputId": "056c680d-19c7-470d-9a99-cde902aa95b4"
      },
      "execution_count": 17,
      "outputs": [
        {
          "output_type": "stream",
          "name": "stdout",
          "text": [
            "***********************\n",
            "* 0 5 7 4 7 6 3 7 0 4 * \n",
            "\n",
            "* 7 8 5 8 1 7 9 1 4 2 * \n",
            "\n",
            "* 5 7 5 4 5 1 9 3 0 1 * \n",
            "\n",
            "* 3 3 0 0 0 9 6 2 8 7 * \n",
            "\n",
            "* 7 2 7 1 8 2 9 8 9 8 * \n",
            "\n",
            "* 0 6 0 2 5 4 5 4 8 9 * \n",
            "\n",
            "* 6 1 1 7 0 0 2 8 3 2 * \n",
            "\n",
            "* 3 9 7 0 8 9 1 4 2 6 * \n",
            "\n",
            "* 3 5 0 0 4 9 6 2 1 3 * \n",
            "\n",
            "* 7 7 2 0 7 2 4 3 8 0 * \n",
            "\n",
            "***********************\n"
          ]
        }
      ]
    },
    {
      "cell_type": "markdown",
      "source": [
        "Calculate and Print the total of each row and column like the following:\n",
        "\n",
        "```\n",
        "6  8  0  2  3  4  2  2  4  4  * 35 \n",
        "3  7  5  8  9  7  4  8  6  0  * 57 \n",
        "4  7  7  4  3  8  2  1  7  0  * 43 \n",
        "7  8  1  3  0  8  4  7  9  2  * 49 \n",
        "0  0  2  4  5  6  6  7  1  4  * 35 \n",
        "3  7  0  0  7  3  3  2  1  6  * 32 \n",
        "2  5  6  6  5  6  5  5  4  7  * 51 \n",
        "9  2  7  5  5  9  2  4  7  9  * 59 \n",
        "0  0  4  7  6  3  9  6  6  7  * 48 \n",
        "0  1  6  5  2  7  4  1  6  4  * 36 \n",
        "*  *  *  *  *  *  *  *  *  *  \n",
        "34 45 38 44 45 61 41 43 51 43 \n",
        "```"
      ],
      "metadata": {
        "id": "6GuOJ0Tbfspi"
      }
    },
    {
      "cell_type": "code",
      "source": [
        "ct = [0] * 10\n",
        "for i in range (0,10):\n",
        "  cnt = 0\n",
        "  for j in range (0,10):\n",
        "    cnt =  cnt + (li[i][j])\n",
        "    ct[j] = ct[j] + (li[i][j])\n",
        "    print(li[i][j],end = \" \")\n",
        "  print(\"*\",cnt)\n",
        "  print(\"\\n\")\n",
        "\n",
        "for i in range (0,10) :\n",
        "  print(\"*\",end = \" \")\n",
        "\n",
        "print(\"\\n\")\n",
        "\n",
        "for i in range (0,10) :\n",
        "  print(ct[i],end = \" \")"
      ],
      "metadata": {
        "colab": {
          "base_uri": "https://localhost:8080/"
        },
        "id": "MfrwnmCTf209",
        "outputId": "9648ce1f-4cdc-4365-be21-d4299aaa0256"
      },
      "execution_count": 70,
      "outputs": [
        {
          "output_type": "stream",
          "name": "stdout",
          "text": [
            "0 5 7 4 7 6 3 7 0 4 * 43\n",
            "\n",
            "\n",
            "7 8 5 8 1 7 9 1 4 2 * 52\n",
            "\n",
            "\n",
            "5 7 5 4 5 1 9 3 0 1 * 40\n",
            "\n",
            "\n",
            "3 3 0 0 0 9 6 2 8 7 * 38\n",
            "\n",
            "\n",
            "7 2 7 1 8 2 9 8 9 8 * 61\n",
            "\n",
            "\n",
            "0 6 0 2 5 4 5 4 8 9 * 43\n",
            "\n",
            "\n",
            "6 1 1 7 0 0 2 8 3 2 * 30\n",
            "\n",
            "\n",
            "3 9 7 0 8 9 1 4 2 6 * 49\n",
            "\n",
            "\n",
            "3 5 0 0 4 9 6 2 1 3 * 33\n",
            "\n",
            "\n",
            "7 7 2 0 7 2 4 3 8 0 * 40\n",
            "\n",
            "\n",
            "* * * * * * * * * * \n",
            "\n",
            "41 53 34 26 45 49 54 42 43 42 "
          ]
        }
      ]
    }
  ]
}