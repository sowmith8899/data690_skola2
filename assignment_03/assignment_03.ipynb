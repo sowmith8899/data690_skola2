{
  "nbformat": 4,
  "nbformat_minor": 0,
  "metadata": {
    "colab": {
      "provenance": [],
      "authorship_tag": "ABX9TyMMQym47wkDYzTJUMPrRqYm",
      "include_colab_link": true
    },
    "kernelspec": {
      "name": "python3",
      "display_name": "Python 3"
    },
    "language_info": {
      "name": "python"
    }
  },
  "cells": [
    {
      "cell_type": "markdown",
      "metadata": {
        "id": "view-in-github",
        "colab_type": "text"
      },
      "source": [
        "<a href=\"https://colab.research.google.com/github/sowmith8899/data690_skola2/blob/main/assignment_03/assignment_03.ipynb\" target=\"_parent\"><img src=\"https://colab.research.google.com/assets/colab-badge.svg\" alt=\"Open In Colab\"/></a>"
      ]
    },
    {
      "cell_type": "markdown",
      "source": [
        "## The Problem:\n",
        "Write a program that generates 100 random integers between 0 and 9. "
      ],
      "metadata": {
        "id": "1L_uR5lFnuDu"
      }
    },
    {
      "cell_type": "markdown",
      "source": [
        "1. Print them in a 10 by 10 matrix neatly arranged like the following (one space between each number):\n",
        "```\n",
        "5 1 5 6 2 7 8 6 4 2 \n",
        "2 3 7 0 6 9 2 4 2 8 \n",
        "0 0 8 6 4 1 7 2 7 6 \n",
        "0 1 9 0 0 8 5 8 6 8 \n",
        "4 1 0 5 5 7 4 6 4 4 \n",
        "6 0 2 0 1 9 8 2 3 9 \n",
        "4 0 4 8 1 7 6 6 2 1 \n",
        "1 7 6 8 5 4 1 9 6 7 \n",
        "6 4 7 9 9 3 8 2 6 1 \n",
        "9 0 6 4 0 1 0 6 9 9 \n",
        "```\n"
      ],
      "metadata": {
        "id": "87c7eBVOn1Th"
      }
    },
    {
      "cell_type": "code",
      "source": [
        "import random , numpy as np\n",
        "li = []\n",
        "for i in range (0,100) :\n",
        "  a= random.randint(0,9)\n",
        "  li.append(a)\n",
        "\n",
        "x = np.array(li)\n",
        "shape = (10,10)\n",
        "mtx = (x.reshape(shape))\n",
        "print(mtx)\n"
      ],
      "metadata": {
        "id": "VM9NbNQCn6dt",
        "colab": {
          "base_uri": "https://localhost:8080/"
        },
        "outputId": "57696b5f-a92f-4361-aa6f-60b8a79953dc"
      },
      "execution_count": 4,
      "outputs": [
        {
          "output_type": "stream",
          "name": "stdout",
          "text": [
            "[[3 5 1 8 2 4 6 9 2 6]\n",
            " [1 3 3 1 5 0 9 6 2 5]\n",
            " [6 9 8 6 3 9 8 7 0 6]\n",
            " [4 6 7 6 7 0 1 9 1 6]\n",
            " [8 3 3 7 7 7 4 7 2 3]\n",
            " [6 9 0 1 9 4 8 4 0 7]\n",
            " [4 4 8 1 9 7 8 9 5 0]\n",
            " [0 1 1 8 4 3 1 1 9 1]\n",
            " [7 2 6 7 7 2 1 0 5 1]\n",
            " [3 3 4 8 8 8 8 5 3 0]]\n"
          ]
        }
      ]
    }
  ]
}