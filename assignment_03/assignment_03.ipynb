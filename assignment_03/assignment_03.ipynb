{
  "nbformat": 4,
  "nbformat_minor": 0,
  "metadata": {
    "colab": {
      "provenance": [],
      "authorship_tag": "ABX9TyOZdp42zjByzFgnReGf+JBH",
      "include_colab_link": true
    },
    "kernelspec": {
      "name": "python3",
      "display_name": "Python 3"
    },
    "language_info": {
      "name": "python"
    }
  },
  "cells": [
    {
      "cell_type": "markdown",
      "metadata": {
        "id": "view-in-github",
        "colab_type": "text"
      },
      "source": [
        "<a href=\"https://colab.research.google.com/github/sowmith8899/data690_skola2/blob/main/assignment_03/assignment_03.ipynb\" target=\"_parent\"><img src=\"https://colab.research.google.com/assets/colab-badge.svg\" alt=\"Open In Colab\"/></a>"
      ]
    },
    {
      "cell_type": "markdown",
      "source": [
        "## The Problem:\n",
        "Write a program that generates 100 random integers between 0 and 9. "
      ],
      "metadata": {
        "id": "1L_uR5lFnuDu"
      }
    },
    {
      "cell_type": "markdown",
      "source": [
        "1. Print them in a 10 by 10 matrix neatly arranged like the following (one space between each number):\n",
        "```\n",
        "5 1 5 6 2 7 8 6 4 2 \n",
        "2 3 7 0 6 9 2 4 2 8 \n",
        "0 0 8 6 4 1 7 2 7 6 \n",
        "0 1 9 0 0 8 5 8 6 8 \n",
        "4 1 0 5 5 7 4 6 4 4 \n",
        "6 0 2 0 1 9 8 2 3 9 \n",
        "4 0 4 8 1 7 6 6 2 1 \n",
        "1 7 6 8 5 4 1 9 6 7 \n",
        "6 4 7 9 9 3 8 2 6 1 \n",
        "9 0 6 4 0 1 0 6 9 9 \n",
        "```\n"
      ],
      "metadata": {
        "id": "87c7eBVOn1Th"
      }
    },
    {
      "cell_type": "code",
      "source": [
        "import random \n",
        "\n",
        "li=[]\n",
        "for i in range (0,10):\n",
        "  l= []\n",
        "  for j in range (0,10) :\n",
        "    a= random.randint(0,9)\n",
        "    l.append(a)\n",
        "  li.append(l)\n",
        "\n",
        "for i in range (0,10):\n",
        "  for j in range (0,10):\n",
        "    print(li[i][j],end = \" \")\n",
        "  print(\"\\n\")\n"
      ],
      "metadata": {
        "colab": {
          "base_uri": "https://localhost:8080/"
        },
        "id": "TqhGnlsQVD0y",
        "outputId": "425a4bc0-64d6-428a-f65c-2c5e0a6759e6"
      },
      "execution_count": 1,
      "outputs": [
        {
          "output_type": "stream",
          "name": "stdout",
          "text": [
            "0 5 7 4 7 6 3 7 0 4 \n",
            "\n",
            "7 8 5 8 1 7 9 1 4 2 \n",
            "\n",
            "5 7 5 4 5 1 9 3 0 1 \n",
            "\n",
            "3 3 0 0 0 9 6 2 8 7 \n",
            "\n",
            "7 2 7 1 8 2 9 8 9 8 \n",
            "\n",
            "0 6 0 2 5 4 5 4 8 9 \n",
            "\n",
            "6 1 1 7 0 0 2 8 3 2 \n",
            "\n",
            "3 9 7 0 8 9 1 4 2 6 \n",
            "\n",
            "3 5 0 0 4 9 6 2 1 3 \n",
            "\n",
            "7 7 2 0 7 2 4 3 8 0 \n",
            "\n"
          ]
        }
      ]
    },
    {
      "cell_type": "markdown",
      "source": [
        "2. If the random number is an odd number, print \"@\" instead.  like the following:\n",
        "```\n",
        "@ @ 0 2 6 @ 8 8 0 0 \n",
        "@ 4 @ 4 4 @ 2 @ 2 2 \n",
        "@ 6 8 @ @ @ 0 @ 0 @ \n",
        "2 6 @ 0 @ 2 @ @ 0 @ \n",
        "8 4 @ @ @ 0 @ @ 6 @ \n",
        "@ @ 4 6 @ @ @ 2 @ 2 \n",
        "@ @ @ @ 4 @ @ 2 2 0 \n",
        "@ 6 @ 0 0 8 @ 2 0 @ \n",
        "8 8 @ @ @ 0 0 @ 4 6 \n",
        "@ 2 2 6 8 2 @ @ @ 6\n",
        "```"
      ],
      "metadata": {
        "id": "H6F8DKWOZc_b"
      }
    }
  ]
}