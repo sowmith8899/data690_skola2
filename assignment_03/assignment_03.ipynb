{
  "nbformat": 4,
  "nbformat_minor": 0,
  "metadata": {
    "colab": {
      "provenance": [],
      "authorship_tag": "ABX9TyP1Yq0vGeVPTuwh7xrIm4tT",
      "include_colab_link": true
    },
    "kernelspec": {
      "name": "python3",
      "display_name": "Python 3"
    },
    "language_info": {
      "name": "python"
    }
  },
  "cells": [
    {
      "cell_type": "markdown",
      "metadata": {
        "id": "view-in-github",
        "colab_type": "text"
      },
      "source": [
        "<a href=\"https://colab.research.google.com/github/sowmith8899/data690_skola2/blob/main/assignment_03/assignment_03.ipynb\" target=\"_parent\"><img src=\"https://colab.research.google.com/assets/colab-badge.svg\" alt=\"Open In Colab\"/></a>"
      ]
    },
    {
      "cell_type": "markdown",
      "source": [
        "## The Problem:\n",
        "Write a program that generates 100 random integers between 0 and 9. "
      ],
      "metadata": {
        "id": "1L_uR5lFnuDu"
      }
    },
    {
      "cell_type": "markdown",
      "source": [
        "1. Print them in a 10 by 10 matrix neatly arranged like the following (one space between each number):\n",
        "```\n",
        "5 1 5 6 2 7 8 6 4 2 \n",
        "2 3 7 0 6 9 2 4 2 8 \n",
        "0 0 8 6 4 1 7 2 7 6 \n",
        "0 1 9 0 0 8 5 8 6 8 \n",
        "4 1 0 5 5 7 4 6 4 4 \n",
        "6 0 2 0 1 9 8 2 3 9 \n",
        "4 0 4 8 1 7 6 6 2 1 \n",
        "1 7 6 8 5 4 1 9 6 7 \n",
        "6 4 7 9 9 3 8 2 6 1 \n",
        "9 0 6 4 0 1 0 6 9 9 \n",
        "\n"
      ],
      "metadata": {
        "id": "87c7eBVOn1Th"
      }
    },
    {
      "cell_type": "code",
      "source": [],
      "metadata": {
        "id": "VM9NbNQCn6dt"
      },
      "execution_count": null,
      "outputs": []
    }
  ]
}