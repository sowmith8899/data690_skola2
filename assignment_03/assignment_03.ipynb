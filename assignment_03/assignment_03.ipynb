{
  "nbformat": 4,
  "nbformat_minor": 0,
  "metadata": {
    "colab": {
      "provenance": [],
      "authorship_tag": "ABX9TyPruAQlOMXY/6LafJ2uAYHC",
      "include_colab_link": true
    },
    "kernelspec": {
      "name": "python3",
      "display_name": "Python 3"
    },
    "language_info": {
      "name": "python"
    }
  },
  "cells": [
    {
      "cell_type": "markdown",
      "metadata": {
        "id": "view-in-github",
        "colab_type": "text"
      },
      "source": [
        "<a href=\"https://colab.research.google.com/github/sowmith8899/data690_skola2/blob/main/assignment_03/assignment_03.ipynb\" target=\"_parent\"><img src=\"https://colab.research.google.com/assets/colab-badge.svg\" alt=\"Open In Colab\"/></a>"
      ]
    },
    {
      "cell_type": "markdown",
      "source": [
        "## The Problem:\n",
        "Write a program that generates 100 random integers between 0 and 9. "
      ],
      "metadata": {
        "id": "1L_uR5lFnuDu"
      }
    },
    {
      "cell_type": "markdown",
      "source": [
        "1. Print them in a 10 by 10 matrix neatly arranged like the following (one space between each number):\n",
        "```\n",
        "5 1 5 6 2 7 8 6 4 2 \n",
        "2 3 7 0 6 9 2 4 2 8 \n",
        "0 0 8 6 4 1 7 2 7 6 \n",
        "0 1 9 0 0 8 5 8 6 8 \n",
        "4 1 0 5 5 7 4 6 4 4 \n",
        "6 0 2 0 1 9 8 2 3 9 \n",
        "4 0 4 8 1 7 6 6 2 1 \n",
        "1 7 6 8 5 4 1 9 6 7 \n",
        "6 4 7 9 9 3 8 2 6 1 \n",
        "9 0 6 4 0 1 0 6 9 9 \n",
        "```\n"
      ],
      "metadata": {
        "id": "87c7eBVOn1Th"
      }
    },
    {
      "cell_type": "code",
      "source": [
        "import random \n",
        "\n",
        "for i in range (0,10):\n",
        "  l= []\n",
        "  for j in range (0,10) :\n",
        "    a= random.randint(0,9)\n",
        "    print(a, end = ' ')\n",
        "  print(\"\\n\")\n"
      ],
      "metadata": {
        "colab": {
          "base_uri": "https://localhost:8080/"
        },
        "id": "TqhGnlsQVD0y",
        "outputId": "78b2b54e-a4b4-4bff-8f22-a391cb44fa8a"
      },
      "execution_count": 52,
      "outputs": [
        {
          "output_type": "stream",
          "name": "stdout",
          "text": [
            "1 7 6 7 4 7 4 8 8 3 \n",
            "\n",
            "2 7 3 5 9 1 5 7 0 2 \n",
            "\n",
            "1 1 8 3 1 2 9 0 0 5 \n",
            "\n",
            "2 1 7 1 0 7 7 6 7 4 \n",
            "\n",
            "5 1 1 4 4 8 1 7 8 4 \n",
            "\n",
            "5 8 9 9 0 1 4 3 4 1 \n",
            "\n",
            "5 1 1 0 0 9 8 4 7 8 \n",
            "\n",
            "0 0 6 7 8 5 4 0 6 0 \n",
            "\n",
            "4 5 5 4 2 2 5 1 9 2 \n",
            "\n",
            "7 7 7 2 6 3 2 7 9 1 \n",
            "\n"
          ]
        }
      ]
    },
    {
      "cell_type": "code",
      "source": [
        "import random \n",
        "\n",
        "def mtx() :\n",
        "  for i in range (0,10):\n",
        "    for j in range (0,10) :\n",
        "      a= random.randint(0,9)\n",
        "      print(a, end = ' ')\n",
        "    print(\"\\n\")\n",
        "  return\n",
        "\n",
        "li = [mtx()]\n",
        "print(li)\n",
        "len(li)"
      ],
      "metadata": {
        "id": "_uWakaltcDYO",
        "outputId": "8ce0805d-42ec-48c1-989f-df4113e44210",
        "colab": {
          "base_uri": "https://localhost:8080/"
        }
      },
      "execution_count": 62,
      "outputs": [
        {
          "output_type": "stream",
          "name": "stdout",
          "text": [
            "0 4 6 9 6 7 6 4 4 8 \n",
            "\n",
            "7 1 0 6 6 3 0 8 1 3 \n",
            "\n",
            "2 0 3 8 0 9 6 5 9 0 \n",
            "\n",
            "0 2 5 2 3 1 4 0 1 8 \n",
            "\n",
            "8 0 8 9 4 5 4 2 9 7 \n",
            "\n",
            "1 9 2 8 7 6 8 7 5 7 \n",
            "\n",
            "4 4 1 6 3 5 3 3 3 5 \n",
            "\n",
            "5 2 2 4 5 9 1 9 2 2 \n",
            "\n",
            "5 5 7 5 9 1 5 4 9 8 \n",
            "\n",
            "2 3 8 1 6 8 9 1 8 1 \n",
            "\n",
            "[None]\n"
          ]
        },
        {
          "output_type": "execute_result",
          "data": {
            "text/plain": [
              "1"
            ]
          },
          "metadata": {},
          "execution_count": 62
        }
      ]
    },
    {
      "cell_type": "code",
      "source": [
        "import random \n",
        "\n",
        "def createMatrix(rowCount, colCount, dataList):\n",
        "    mat = []\n",
        "    for i in range(rowCount):\n",
        "        rowList = []\n",
        "        for j in range(colCount):\n",
        "            # you need to increment through dataList here, like this:\n",
        "            rowList.append(dataList[rowCount * i + j])\n",
        "        mat.append(rowList)\n",
        "\n",
        "    return mat\n",
        "\n",
        "li = []\n",
        "for i in range (0,100) :\n",
        "  a= random.randint(0,9)\n",
        "  li.append(a)\n",
        "\n",
        "mat = createMatrix(10,10,li)\n",
        "print (mat)\n",
        "\n",
        "#x = np.array(li)\n",
        "#shape = (10,10)\n",
        "#mtx = (x.reshape(shape))\n",
        "#print(mtx)\n",
        "#print(*mtx, sep = ' ')"
      ],
      "metadata": {
        "id": "VM9NbNQCn6dt",
        "colab": {
          "base_uri": "https://localhost:8080/"
        },
        "outputId": "49b3cd0c-051f-4012-c690-411bd97754e1"
      },
      "execution_count": 19,
      "outputs": [
        {
          "output_type": "stream",
          "name": "stdout",
          "text": [
            "[[1, 8, 0, 8, 9, 9, 7, 5, 2, 1], [6, 5, 0, 9, 7, 5, 9, 8, 6, 8], [5, 2, 3, 8, 5, 6, 9, 2, 8, 7], [0, 6, 7, 5, 4, 5, 4, 3, 6, 3], [8, 8, 8, 0, 2, 3, 6, 9, 7, 9], [9, 5, 3, 0, 8, 8, 8, 6, 7, 2], [7, 4, 8, 5, 7, 8, 4, 2, 3, 7], [0, 7, 8, 8, 9, 1, 2, 0, 4, 4], [8, 6, 9, 4, 4, 3, 3, 8, 5, 7], [3, 4, 1, 4, 2, 7, 8, 2, 3, 9]]\n"
          ]
        }
      ]
    },
    {
      "cell_type": "code",
      "source": [
        "import random\n",
        "\n",
        "outside_size = 10 # How many nested lists to include\n",
        "inside_size = 10  # How many numbers will be in an inside list\n",
        "outside_list = [] # The final list\n",
        "for i in range(0, outside_size, 1):\n",
        "    _list = [] # Create new \"inside\" (nested) list\n",
        "    for j in range(0, inside_size, 1): # Populate the nested list with random numbers\n",
        "        _list.append(randint(0, 100))\n",
        "    outside_list.append(_list) # Add the inside (nested) list to the outside (final) list\n",
        "\n",
        "\n",
        "print(outside_list)\n",
        "\n",
        "\n",
        "\n",
        "\n",
        "#df = pd.DataFrame(outside_list) # Create the dataframe from it\n",
        "#print(df)"
      ],
      "metadata": {
        "colab": {
          "base_uri": "https://localhost:8080/"
        },
        "id": "px5A5Jc_3X8v",
        "outputId": "e47aded5-6e8f-4b49-a262-a29af3c97e4f"
      },
      "execution_count": 26,
      "outputs": [
        {
          "output_type": "stream",
          "name": "stdout",
          "text": [
            "[[27, 97, 10, 27, 83, 64, 82, 17, 100, 48], [1, 73, 50, 18, 10, 25, 88, 97, 80, 11], [83, 69, 74, 86, 87, 51, 26, 5, 76, 45], [14, 32, 86, 91, 9, 64, 30, 60, 38, 68], [8, 52, 47, 64, 28, 21, 50, 91, 40, 47], [7, 72, 66, 23, 23, 1, 73, 3, 81, 16], [34, 58, 95, 2, 37, 31, 66, 12, 48, 11], [39, 22, 44, 37, 50, 60, 28, 15, 51, 5], [75, 74, 51, 55, 36, 61, 10, 44, 28, 48], [32, 71, 39, 98, 0, 86, 65, 82, 47, 30]]\n"
          ]
        }
      ]
    },
    {
      "cell_type": "markdown",
      "source": [
        "2. If the random number is an odd number, print \"@\" instead.  like the following:\n",
        "```\n",
        "@ @ 0 2 6 @ 8 8 0 0 \n",
        "@ 4 @ 4 4 @ 2 @ 2 2 \n",
        "@ 6 8 @ @ @ 0 @ 0 @ \n",
        "2 6 @ 0 @ 2 @ @ 0 @ \n",
        "8 4 @ @ @ 0 @ @ 6 @ \n",
        "@ @ 4 6 @ @ @ 2 @ 2 \n",
        "@ @ @ @ 4 @ @ 2 2 0 \n",
        "@ 6 @ 0 0 8 @ 2 0 @ \n",
        "8 8 @ @ @ 0 0 @ 4 6 \n",
        "@ 2 2 6 8 2 @ @ @ 6\n",
        "```"
      ],
      "metadata": {
        "id": "H6F8DKWOZc_b"
      }
    },
    {
      "cell_type": "code",
      "source": [
        "odd_mtx = mtx\n",
        "\n",
        "for i in mtx :\n",
        "  if mtx[i][j] == 1 or 3 or 7 or 5 or 9 :\n",
        "    mtx[i][j] = '@'\n",
        "print(odd_mtx)\n",
        "\n",
        "print(mtx)"
      ],
      "metadata": {
        "colab": {
          "base_uri": "https://localhost:8080/",
          "height": 240
        },
        "id": "DQx9pENVZeV8",
        "outputId": "c4820634-f59a-4df4-e7f6-730846ff9339"
      },
      "execution_count": 6,
      "outputs": [
        {
          "output_type": "error",
          "ename": "NameError",
          "evalue": "ignored",
          "traceback": [
            "\u001b[0;31m---------------------------------------------------------------------------\u001b[0m",
            "\u001b[0;31mNameError\u001b[0m                                 Traceback (most recent call last)",
            "\u001b[0;32m<ipython-input-6-1f8c8a59b989>\u001b[0m in \u001b[0;36m<module>\u001b[0;34m\u001b[0m\n\u001b[1;32m      2\u001b[0m \u001b[0;34m\u001b[0m\u001b[0m\n\u001b[1;32m      3\u001b[0m \u001b[0;32mfor\u001b[0m \u001b[0mi\u001b[0m \u001b[0;32min\u001b[0m \u001b[0mmtx\u001b[0m \u001b[0;34m:\u001b[0m\u001b[0;34m\u001b[0m\u001b[0;34m\u001b[0m\u001b[0m\n\u001b[0;32m----> 4\u001b[0;31m   \u001b[0;32mif\u001b[0m \u001b[0mmtx\u001b[0m\u001b[0;34m[\u001b[0m\u001b[0mi\u001b[0m\u001b[0;34m]\u001b[0m\u001b[0;34m[\u001b[0m\u001b[0mj\u001b[0m\u001b[0;34m]\u001b[0m \u001b[0;34m==\u001b[0m \u001b[0;36m1\u001b[0m \u001b[0;32mor\u001b[0m \u001b[0;36m3\u001b[0m \u001b[0;32mor\u001b[0m \u001b[0;36m7\u001b[0m \u001b[0;32mor\u001b[0m \u001b[0;36m5\u001b[0m \u001b[0;32mor\u001b[0m \u001b[0;36m9\u001b[0m \u001b[0;34m:\u001b[0m\u001b[0;34m\u001b[0m\u001b[0;34m\u001b[0m\u001b[0m\n\u001b[0m\u001b[1;32m      5\u001b[0m     \u001b[0mmtx\u001b[0m\u001b[0;34m[\u001b[0m\u001b[0mi\u001b[0m\u001b[0;34m]\u001b[0m\u001b[0;34m[\u001b[0m\u001b[0mj\u001b[0m\u001b[0;34m]\u001b[0m \u001b[0;34m=\u001b[0m \u001b[0;34m'@'\u001b[0m\u001b[0;34m\u001b[0m\u001b[0;34m\u001b[0m\u001b[0m\n\u001b[1;32m      6\u001b[0m \u001b[0mprint\u001b[0m\u001b[0;34m(\u001b[0m\u001b[0modd_mtx\u001b[0m\u001b[0;34m)\u001b[0m\u001b[0;34m\u001b[0m\u001b[0;34m\u001b[0m\u001b[0m\n",
            "\u001b[0;31mNameError\u001b[0m: name 'j' is not defined"
          ]
        }
      ]
    }
  ]
}