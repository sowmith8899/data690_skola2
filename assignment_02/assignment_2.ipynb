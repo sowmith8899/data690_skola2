{
  "nbformat": 4,
  "nbformat_minor": 0,
  "metadata": {
    "colab": {
      "provenance": [],
      "authorship_tag": "ABX9TyOT/OM5VgUe4ES1OblLdtz5",
      "include_colab_link": true
    },
    "kernelspec": {
      "name": "python3",
      "display_name": "Python 3"
    },
    "language_info": {
      "name": "python"
    }
  },
  "cells": [
    {
      "cell_type": "markdown",
      "metadata": {
        "id": "view-in-github",
        "colab_type": "text"
      },
      "source": [
        "<a href=\"https://colab.research.google.com/github/sowmith8899/data690_skola2/blob/main/assignment_02/assignment_2.ipynb\" target=\"_parent\"><img src=\"https://colab.research.google.com/assets/colab-badge.svg\" alt=\"Open In Colab\"/></a>"
      ]
    },
    {
      "cell_type": "markdown",
      "source": [
        "## Assignment 02\n",
        "## Requirements\n",
        "- Prompt a user to enter 10 integers.\n",
        "- If the user enters anything other than integers, remind her that only integers are allowed and let her retry.\n",
        "    - Note: **You need to detect if the user makes a mistake and let the user retry without exiting the program. The previously entered valid inputs should be kept and not lost.**\n",
        "- Don't allow the user to enter more than 10 or less than 10 integers.\n",
        "- Display the 10 integers back to the user at the end.\n",
        "- Calculate the following statistics from the 10 integers entered and display the results back to the user:\n",
        "    1. Minimum\n",
        "    2. Maximum\n",
        "    3. Range\n",
        "    4. Mean\n",
        "    5. Variance\n",
        "    6. Standard Deviation\n",
        "\n",
        "## References\n",
        "https://www.mathsisfun.com/data/standard-deviation.html"
      ],
      "metadata": {
        "id": "IMPVz79TTtyE"
      }
    },
    {
      "cell_type": "code",
      "execution_count": 38,
      "metadata": {
        "id": "qMtFlftxS4eS",
        "colab": {
          "base_uri": "https://localhost:8080/"
        },
        "outputId": "50b5f434-2b48-4edb-8cfc-c01879ecc9e7"
      },
      "outputs": [
        {
          "output_type": "stream",
          "name": "stdout",
          "text": [
            "Enter integer 14\n",
            "Enter integer 22\n",
            "Enter integer 36\n",
            "Enter integer 44\n",
            "Enter integer 57\n",
            "Enter integer 68\n",
            "Enter integer 73\n",
            "Enter integer 81\n",
            "Enter integer 98\n",
            "Enter integer 1022\n",
            "[4, 2, 6, 4, 7, 8, 3, 1, 8, 22]\n"
          ]
        }
      ],
      "source": [
        "lst = []\n",
        "n = 10\n",
        "for i in range (1,n+1) :\n",
        "    try :\n",
        "      a = int(input(\"Enter integer \" + str(i)))\n",
        "    except :\n",
        "      print(\"Please enter only integer\")\n",
        "      a = int(input(\"Enter integer \" + str(i)))\n",
        "    lst.append(a)\n",
        " \n",
        "print(lst)\n"
      ]
    },
    {
      "cell_type": "code",
      "source": [
        "sm = lst[0]\n",
        "for i in range (0,len(lst)):\n",
        "  if lst[i] < sm:\n",
        "    sm = lst[i]  \n",
        "print(\"Smallest value is\",sm)"
      ],
      "metadata": {
        "colab": {
          "base_uri": "https://localhost:8080/"
        },
        "id": "7DLBQxBmc88x",
        "outputId": "ce660add-76dc-4f09-9c43-7dd931966687"
      },
      "execution_count": 52,
      "outputs": [
        {
          "output_type": "stream",
          "name": "stdout",
          "text": [
            "Smallest value is 1\n"
          ]
        }
      ]
    },
    {
      "cell_type": "code",
      "source": [
        "ln = lst[0]\n",
        "for i in range (0,len(lst)):\n",
        "  if lst[i] > ln:\n",
        "    ln = lst[i]  \n",
        "print(\"Greatest value is\",ln)"
      ],
      "metadata": {
        "colab": {
          "base_uri": "https://localhost:8080/"
        },
        "id": "fqqLgJkHfYSy",
        "outputId": "5c4a429c-f77c-4a34-d1df-f92634d2e89d"
      },
      "execution_count": 53,
      "outputs": [
        {
          "output_type": "stream",
          "name": "stdout",
          "text": [
            "Greatest value is 22\n"
          ]
        }
      ]
    },
    {
      "cell_type": "code",
      "source": [
        "rng = ln - sm\n",
        "print(\"Range is \",rng)"
      ],
      "metadata": {
        "colab": {
          "base_uri": "https://localhost:8080/"
        },
        "id": "-32FUkclfl02",
        "outputId": "d7bd0e7d-534e-4c32-e7b6-ffd78a22f32e"
      },
      "execution_count": 41,
      "outputs": [
        {
          "output_type": "stream",
          "name": "stdout",
          "text": [
            "Range is  21\n"
          ]
        }
      ]
    },
    {
      "cell_type": "code",
      "source": [
        "sum_lst=0\n",
        "for i in range(0,len(lst)):\n",
        "  sum_lst=lst[i] + sum_lst\n",
        "print(\"Sum of list is \",sum_lst)\n",
        "\n",
        "mn = sum_lst/n\n",
        "print(\"Mean is\",mn)"
      ],
      "metadata": {
        "colab": {
          "base_uri": "https://localhost:8080/"
        },
        "id": "OB6x6AiFgFxs",
        "outputId": "a435123d-8c7d-4604-8411-4533a01de71e"
      },
      "execution_count": 54,
      "outputs": [
        {
          "output_type": "stream",
          "name": "stdout",
          "text": [
            "Sum of list is  65\n",
            "Mean is 6.5\n"
          ]
        }
      ]
    },
    {
      "cell_type": "code",
      "source": [
        "new_lst = []\n",
        "for i in range (0,len(lst)):\n",
        "  a=lst[i]-mn\n",
        "  new_lst.append(a)\n",
        "print(new_lst)\n",
        "\n",
        "var_sum=0\n",
        "for i in range (0,len(new_lst)):\n",
        "  var_sum=(new_lst[i]*new_lst[i]) + var_sum\n",
        "\n",
        "var =var_sum/n\n",
        "print(\"Variance is \",var)"
      ],
      "metadata": {
        "id": "b7mWwA1S0yeK",
        "outputId": "465cc8ac-6c67-49b1-e25f-3dc49086509e",
        "colab": {
          "base_uri": "https://localhost:8080/"
        }
      },
      "execution_count": 60,
      "outputs": [
        {
          "output_type": "stream",
          "name": "stdout",
          "text": [
            "[-2.5, -4.5, -0.5, -2.5, 0.5, 1.5, -3.5, -5.5, 1.5, 15.5]\n",
            "Variance is  32.05\n"
          ]
        }
      ]
    },
    {
      "cell_type": "code",
      "source": [
        "sd = var **(1/2)\n",
        "print(\"Standard deviation is\",sd)"
      ],
      "metadata": {
        "id": "ePeE6G4L3krn",
        "outputId": "81d950d0-5fca-4394-f883-451c05563f46",
        "colab": {
          "base_uri": "https://localhost:8080/"
        }
      },
      "execution_count": 62,
      "outputs": [
        {
          "output_type": "stream",
          "name": "stdout",
          "text": [
            "Standard deviation is 5.661271941887264\n"
          ]
        }
      ]
    }
  ]
}