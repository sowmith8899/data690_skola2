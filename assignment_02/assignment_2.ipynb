{
  "nbformat": 4,
  "nbformat_minor": 0,
  "metadata": {
    "colab": {
      "provenance": [],
      "authorship_tag": "ABX9TyNXE5shUxO7DCJLHQvQECJe",
      "include_colab_link": true
    },
    "kernelspec": {
      "name": "python3",
      "display_name": "Python 3"
    },
    "language_info": {
      "name": "python"
    }
  },
  "cells": [
    {
      "cell_type": "markdown",
      "metadata": {
        "id": "view-in-github",
        "colab_type": "text"
      },
      "source": [
        "<a href=\"https://colab.research.google.com/github/sowmith8899/data690_skola2/blob/main/assignment_02/assignment_2.ipynb\" target=\"_parent\"><img src=\"https://colab.research.google.com/assets/colab-badge.svg\" alt=\"Open In Colab\"/></a>"
      ]
    },
    {
      "cell_type": "markdown",
      "source": [
        "## Assignment 02\n",
        "## Requirements\n",
        "- Prompt a user to enter 10 integers.\n",
        "- If the user enters anything other than integers, remind her that only integers are allowed and let her retry.\n",
        "    - Note: **You need to detect if the user makes a mistake and let the user retry without exiting the program. The previously entered valid inputs should be kept and not lost.**\n",
        "- Don't allow the user to enter more than 10 or less than 10 integers.\n",
        "- Display the 10 integers back to the user at the end.\n",
        "- Calculate the following statistics from the 10 integers entered and display the results back to the user:\n",
        "    1. Minimum\n",
        "    2. Maximum\n",
        "    3. Range\n",
        "    4. Mean\n",
        "    5. Variance\n",
        "    6. Standard Deviation\n",
        "\n",
        "## References\n",
        "https://www.mathsisfun.com/data/standard-deviation.html"
      ],
      "metadata": {
        "id": "IMPVz79TTtyE"
      }
    },
    {
      "cell_type": "code",
      "execution_count": 38,
      "metadata": {
        "id": "qMtFlftxS4eS",
        "outputId": "50b5f434-2b48-4edb-8cfc-c01879ecc9e7",
        "colab": {
          "base_uri": "https://localhost:8080/"
        }
      },
      "outputs": [
        {
          "output_type": "stream",
          "name": "stdout",
          "text": [
            "Enter integer 14\n",
            "Enter integer 22\n",
            "Enter integer 36\n",
            "Enter integer 44\n",
            "Enter integer 57\n",
            "Enter integer 68\n",
            "Enter integer 73\n",
            "Enter integer 81\n",
            "Enter integer 98\n",
            "Enter integer 1022\n",
            "[4, 2, 6, 4, 7, 8, 3, 1, 8, 22]\n"
          ]
        }
      ],
      "source": [
        "lst = []\n",
        "n = 10\n",
        "for i in range (1,n+1) :\n",
        "    try :\n",
        "      a = int(input(\"Enter integer \" + str(i)))\n",
        "    except :\n",
        "      print(\"Please enter only integer\")\n",
        "      a = int(input(\"Enter integer \" + str(i)))\n",
        "    lst.append(a)\n",
        " \n",
        "print(lst)\n"
      ]
    },
    {
      "cell_type": "code",
      "source": [
        "sm = lst[0]\n",
        "for i in range (0,len(lst)):\n",
        "  if lst[i] < sm:\n",
        "    sm = lst[i]  \n",
        "print(\"Smallest value is\",sm)"
      ],
      "metadata": {
        "id": "7DLBQxBmc88x",
        "outputId": "1a7b1437-23fd-42b9-acaf-5339746596fe",
        "colab": {
          "base_uri": "https://localhost:8080/"
        }
      },
      "execution_count": 39,
      "outputs": [
        {
          "output_type": "stream",
          "name": "stdout",
          "text": [
            "Smallest value is 1\n"
          ]
        }
      ]
    },
    {
      "cell_type": "code",
      "source": [
        "ln = lst[0]\n",
        "for i in range (0,len(lst)):\n",
        "  if lst[i] > ln:\n",
        "    ln = lst[i]  \n",
        "print(\"Greatest value is\",ln)"
      ],
      "metadata": {
        "id": "fqqLgJkHfYSy",
        "outputId": "4ad9c687-0cf8-4f4c-e29b-da825210f984",
        "colab": {
          "base_uri": "https://localhost:8080/"
        }
      },
      "execution_count": 40,
      "outputs": [
        {
          "output_type": "stream",
          "name": "stdout",
          "text": [
            "Greatest value is 22\n"
          ]
        }
      ]
    },
    {
      "cell_type": "code",
      "source": [
        "rng = ln - sm\n",
        "print(\"Range is \",rng)"
      ],
      "metadata": {
        "id": "-32FUkclfl02",
        "outputId": "d7bd0e7d-534e-4c32-e7b6-ffd78a22f32e",
        "colab": {
          "base_uri": "https://localhost:8080/"
        }
      },
      "execution_count": 41,
      "outputs": [
        {
          "output_type": "stream",
          "name": "stdout",
          "text": [
            "Range is  21\n"
          ]
        }
      ]
    },
    {
      "cell_type": "code",
      "source": [
        "mn = "
      ],
      "metadata": {
        "id": "OB6x6AiFgFxs"
      },
      "execution_count": null,
      "outputs": []
    }
  ]
}