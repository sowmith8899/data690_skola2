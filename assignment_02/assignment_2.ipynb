{
  "nbformat": 4,
  "nbformat_minor": 0,
  "metadata": {
    "colab": {
      "provenance": [],
      "authorship_tag": "ABX9TyMTq8GblHFaPIa1w5T2DTD4",
      "include_colab_link": true
    },
    "kernelspec": {
      "name": "python3",
      "display_name": "Python 3"
    },
    "language_info": {
      "name": "python"
    }
  },
  "cells": [
    {
      "cell_type": "markdown",
      "metadata": {
        "id": "view-in-github",
        "colab_type": "text"
      },
      "source": [
        "<a href=\"https://colab.research.google.com/github/sowmith8899/data690_skola2/blob/main/assignment_02/assignment_2.ipynb\" target=\"_parent\"><img src=\"https://colab.research.google.com/assets/colab-badge.svg\" alt=\"Open In Colab\"/></a>"
      ]
    },
    {
      "cell_type": "markdown",
      "source": [
        "## Assignment 02\n",
        "## Requirements\n",
        "- Prompt a user to enter 10 integers.\n",
        "- If the user enters anything other than integers, remind her that only integers are allowed and let her retry.\n",
        "    - Note: **You need to detect if the user makes a mistake and let the user retry without exiting the program. The previously entered valid inputs should be kept and not lost.**\n",
        "- Don't allow the user to enter more than 10 or less than 10 integers.\n",
        "- Display the 10 integers back to the user at the end.\n",
        "- Calculate the following statistics from the 10 integers entered and display the results back to the user:\n",
        "    1. Minimum\n",
        "    2. Maximum\n",
        "    3. Range\n",
        "    4. Mean\n",
        "    5. Variance\n",
        "    6. Standard Deviation\n",
        "\n",
        "## References\n",
        "https://www.mathsisfun.com/data/standard-deviation.html"
      ],
      "metadata": {
        "id": "IMPVz79TTtyE"
      }
    },
    {
      "cell_type": "code",
      "execution_count": 2,
      "metadata": {
        "id": "qMtFlftxS4eS",
        "colab": {
          "base_uri": "https://localhost:8080/"
        },
        "outputId": "1678371c-0a14-41d3-9312-c03fc435e6a7"
      },
      "outputs": [
        {
          "output_type": "stream",
          "name": "stdout",
          "text": [
            "Enter integer 1 :q\n",
            "Please enter only integer\n",
            "Enter integer 1 :q\n",
            "Please enter only integer\n",
            "Enter integer 1 :2\n",
            "Enter integer 2 :3\n",
            "Enter integer 3 :5\n",
            "Enter integer 4 :7\n",
            "Enter integer 5 :9\n",
            "Enter integer 6 :1\n",
            "Enter integer 7 :9\n",
            "Enter integer 8 :9\n",
            "Enter integer 9 :5\n",
            "Enter integer 10 :1\n",
            "[2, 3, 5, 7, 9, 1, 9, 9, 5, 1]\n"
          ]
        }
      ],
      "source": [
        "lst = []\n",
        "n = 10\n",
        "for i in range (1,n+1) :\n",
        "    while True:\n",
        "      try :\n",
        "        a = int(input(\"Enter integer \" + str(i) + \" :\"))\n",
        "        break\n",
        "      except :\n",
        "        print(\"Please enter only integer\")\n",
        "    lst.append(a)\n",
        " \n",
        "print(lst)\n"
      ]
    },
    {
      "cell_type": "code",
      "source": [
        "sm = lst[0]\n",
        "for i in range (0,len(lst)):\n",
        "  if lst[i] < sm:\n",
        "    sm = lst[i]  \n",
        "print(\"Smallest value is\",sm)"
      ],
      "metadata": {
        "colab": {
          "base_uri": "https://localhost:8080/"
        },
        "id": "7DLBQxBmc88x",
        "outputId": "53a242aa-c282-44c1-e284-7ae0815b1cc5"
      },
      "execution_count": 3,
      "outputs": [
        {
          "output_type": "stream",
          "name": "stdout",
          "text": [
            "Smallest value is 1\n"
          ]
        }
      ]
    },
    {
      "cell_type": "code",
      "source": [
        "ln = lst[0]\n",
        "for i in range (0,len(lst)):\n",
        "  if lst[i] > ln:\n",
        "    ln = lst[i]  \n",
        "print(\"Greatest value is\",ln)"
      ],
      "metadata": {
        "colab": {
          "base_uri": "https://localhost:8080/"
        },
        "id": "fqqLgJkHfYSy",
        "outputId": "738080fe-bec0-43cc-bfe6-77edf52bcdaf"
      },
      "execution_count": 4,
      "outputs": [
        {
          "output_type": "stream",
          "name": "stdout",
          "text": [
            "Greatest value is 9\n"
          ]
        }
      ]
    },
    {
      "cell_type": "code",
      "source": [
        "rng = ln - sm\n",
        "print(\"Range is \",rng)"
      ],
      "metadata": {
        "colab": {
          "base_uri": "https://localhost:8080/"
        },
        "id": "-32FUkclfl02",
        "outputId": "e2296126-a78c-4ef3-d7df-bf34d903904d"
      },
      "execution_count": 5,
      "outputs": [
        {
          "output_type": "stream",
          "name": "stdout",
          "text": [
            "Range is  8\n"
          ]
        }
      ]
    },
    {
      "cell_type": "code",
      "source": [
        "sum_lst=0\n",
        "for i in range(0,len(lst)):\n",
        "  sum_lst=lst[i] + sum_lst\n",
        "print(\"Sum of list is \",sum_lst)\n",
        "\n",
        "mn = sum_lst/n\n",
        "print(\"Mean is\",mn)"
      ],
      "metadata": {
        "colab": {
          "base_uri": "https://localhost:8080/"
        },
        "id": "OB6x6AiFgFxs",
        "outputId": "46c76252-5874-45de-d42b-8d6dcb3591ca"
      },
      "execution_count": 6,
      "outputs": [
        {
          "output_type": "stream",
          "name": "stdout",
          "text": [
            "Sum of list is  51\n",
            "Mean is 5.1\n"
          ]
        }
      ]
    },
    {
      "cell_type": "code",
      "source": [
        "new_lst = []\n",
        "for i in range (0,len(lst)):\n",
        "  a=lst[i]-mn\n",
        "  new_lst.append(a)\n",
        "print(new_lst)\n",
        "\n",
        "var_sum=0\n",
        "for i in range (0,len(new_lst)):\n",
        "  var_sum=(new_lst[i]*new_lst[i]) + var_sum\n",
        "\n",
        "var =var_sum/n\n",
        "print(\"Variance is \",var)"
      ],
      "metadata": {
        "id": "b7mWwA1S0yeK",
        "outputId": "b8331833-7a11-4285-a3a7-851396d7ce1c",
        "colab": {
          "base_uri": "https://localhost:8080/"
        }
      },
      "execution_count": 7,
      "outputs": [
        {
          "output_type": "stream",
          "name": "stdout",
          "text": [
            "[-3.0999999999999996, -2.0999999999999996, -0.09999999999999964, 1.9000000000000004, 3.9000000000000004, -4.1, 3.9000000000000004, 3.9000000000000004, -0.09999999999999964, -4.1]\n",
            "Variance is  9.690000000000001\n"
          ]
        }
      ]
    },
    {
      "cell_type": "code",
      "source": [
        "sd = var **(1/2)\n",
        "print(\"Standard deviation is\",sd)"
      ],
      "metadata": {
        "id": "ePeE6G4L3krn",
        "outputId": "5433894d-fa65-4449-b2cb-6dbb24f3ed53",
        "colab": {
          "base_uri": "https://localhost:8080/"
        }
      },
      "execution_count": 8,
      "outputs": [
        {
          "output_type": "stream",
          "name": "stdout",
          "text": [
            "Standard deviation is 3.1128764832546763\n"
          ]
        }
      ]
    }
  ]
}