{
  "nbformat": 4,
  "nbformat_minor": 0,
  "metadata": {
    "colab": {
      "provenance": [],
      "authorship_tag": "ABX9TyOHskRW5Dn5wMIBZJTqaqhb",
      "include_colab_link": true
    },
    "kernelspec": {
      "name": "python3",
      "display_name": "Python 3"
    },
    "language_info": {
      "name": "python"
    }
  },
  "cells": [
    {
      "cell_type": "markdown",
      "metadata": {
        "id": "view-in-github",
        "colab_type": "text"
      },
      "source": [
        "<a href=\"https://colab.research.google.com/github/sowmith8899/data690_skola2/blob/main/assignment_02/690_session_02.ipynb\" target=\"_parent\"><img src=\"https://colab.research.google.com/assets/colab-badge.svg\" alt=\"Open In Colab\"/></a>"
      ]
    },
    {
      "cell_type": "markdown",
      "source": [
        "# 690 DATA SESSION 2\n",
        "- Name : Sowmith Kola\n",
        "- Date : 09/09/2022 "
      ],
      "metadata": {
        "id": "NseGYGeGdRnK"
      }
    },
    {
      "cell_type": "code",
      "execution_count": 10,
      "metadata": {
        "id": "hmUy3RTKc2o1",
        "colab": {
          "base_uri": "https://localhost:8080/"
        },
        "outputId": "4cc74296-afc1-465d-e3cb-73d5f10bb199"
      },
      "outputs": [
        {
          "output_type": "stream",
          "name": "stdout",
          "text": [
            "Birth years of students: 1/11/1997 1991 2000 1969 1999 1998 1993 1996 1999 1997 1996 1998 1995 1999 1999 1997 1996 1996 1997 1995 1997 1999 2000\n"
          ]
        }
      ],
      "source": [
        "years = \"1/11/1997 1991 2000 1969 1999 1998 1993 1996 1999 1997 1996 1998 1995 1999 1999 1997 1996 1996 1997 1995 1997 1999 2000\"\n",
        "\n",
        "print(\"Birth years of students:\",years)"
      ]
    },
    {
      "cell_type": "code",
      "source": [
        "type(years)"
      ],
      "metadata": {
        "colab": {
          "base_uri": "https://localhost:8080/"
        },
        "id": "THPoftjMfcBU",
        "outputId": "9df96622-eb26-45b1-d1ef-c0291718e053"
      },
      "execution_count": 11,
      "outputs": [
        {
          "output_type": "execute_result",
          "data": {
            "text/plain": [
              "str"
            ]
          },
          "metadata": {},
          "execution_count": 11
        }
      ]
    },
    {
      "cell_type": "code",
      "source": [
        "years_list=years.split(\" \")\n",
        "print(years_list)"
      ],
      "metadata": {
        "colab": {
          "base_uri": "https://localhost:8080/"
        },
        "id": "TdLtVaOlfhDY",
        "outputId": "05c8e6c3-7acb-4517-badc-a3916441c204"
      },
      "execution_count": 17,
      "outputs": [
        {
          "output_type": "stream",
          "name": "stdout",
          "text": [
            "['1/11/1997', '1991', '2000', '1969', '1999', '1998', '1993', '1996', '1999', '1997', '1996', '1998', '1995', '1999', '1999', '1997', '1996', '1996', '1997', '1995', '1997', '1999', '2000']\n"
          ]
        }
      ]
    },
    {
      "cell_type": "code",
      "source": [
        "years_list.pop(0)\n",
        "print(years_list)"
      ],
      "metadata": {
        "colab": {
          "base_uri": "https://localhost:8080/"
        },
        "id": "h9kmlPezhxrN",
        "outputId": "76665246-69c6-4e0b-e34a-9640f86f498c"
      },
      "execution_count": 18,
      "outputs": [
        {
          "output_type": "stream",
          "name": "stdout",
          "text": [
            "['1991', '2000', '1969', '1999', '1998', '1993', '1996', '1999', '1997', '1996', '1998', '1995', '1999', '1999', '1997', '1996', '1996', '1997', '1995', '1997', '1999', '2000']\n"
          ]
        }
      ]
    },
    {
      "cell_type": "code",
      "source": [
        "from datetime import date\n",
        "\n",
        "current_year = date.today().year\n",
        "print(current_year)\n",
        "\n",
        "total_age = 0\n",
        "for birthyear in years_list :\n",
        "  age = current_year - int(birthyear)\n",
        "  total_age=age + total_age\n",
        "\n",
        "print(\"Total age is \",total_age)\n"
      ],
      "metadata": {
        "colab": {
          "base_uri": "https://localhost:8080/"
        },
        "id": "rLKKIObmjyhA",
        "outputId": "9ae38b12-160e-413e-9164-85210efea2d6"
      },
      "execution_count": 19,
      "outputs": [
        {
          "output_type": "stream",
          "name": "stdout",
          "text": [
            "2022\n",
            "Total age is  578\n"
          ]
        }
      ]
    },
    {
      "cell_type": "code",
      "source": [
        "avg_age = total_age/len(years_list)\n",
        "print(\"average age is\",avg_age)"
      ],
      "metadata": {
        "colab": {
          "base_uri": "https://localhost:8080/"
        },
        "id": "6l0sA1ehnV20",
        "outputId": "8560ce1b-3478-4750-da55-4cde733d9a55"
      },
      "execution_count": 20,
      "outputs": [
        {
          "output_type": "stream",
          "name": "stdout",
          "text": [
            "average age is 26.272727272727273\n"
          ]
        }
      ]
    },
    {
      "cell_type": "code",
      "source": [
        "x=[\"Jay\",\"James\",\"Jayson\",\"Libin\"]\n",
        "type(x)"
      ],
      "metadata": {
        "colab": {
          "base_uri": "https://localhost:8080/"
        },
        "id": "pk3fflJ5fy-k",
        "outputId": "c64b70a6-1055-4e5b-f800-f0ed375a9603"
      },
      "execution_count": 5,
      "outputs": [
        {
          "output_type": "execute_result",
          "data": {
            "text/plain": [
              "list"
            ]
          },
          "metadata": {},
          "execution_count": 5
        }
      ]
    },
    {
      "cell_type": "code",
      "source": [
        "y=[2.4,12,-7,11,6]\n",
        "type(y)"
      ],
      "metadata": {
        "colab": {
          "base_uri": "https://localhost:8080/"
        },
        "id": "3TKfYQeghDmO",
        "outputId": "1c413dfe-f752-454b-f96a-7c7d7b90e713"
      },
      "execution_count": 6,
      "outputs": [
        {
          "output_type": "execute_result",
          "data": {
            "text/plain": [
              "list"
            ]
          },
          "metadata": {},
          "execution_count": 6
        }
      ]
    },
    {
      "cell_type": "code",
      "source": [
        "total=0\n",
        "for num in y :\n",
        "  total = total+num\n",
        "print(\"Sum of y is\",total)\n",
        "\n",
        "print(\"Size of the list is \",len(y))\n",
        "\n",
        "print(\"Average is \",total/len(y))"
      ],
      "metadata": {
        "colab": {
          "base_uri": "https://localhost:8080/"
        },
        "id": "-gfZlPC3hL-F",
        "outputId": "60df864e-1623-4d2e-906d-f05fafff4754"
      },
      "execution_count": 7,
      "outputs": [
        {
          "output_type": "stream",
          "name": "stdout",
          "text": [
            "Sum of y is 24.4\n",
            "Size of the list is  5\n",
            "Average is  4.88\n"
          ]
        }
      ]
    },
    {
      "cell_type": "markdown",
      "source": [
        "#Approach 02 - fix data problem "
      ],
      "metadata": {
        "id": "-1LyTo5htFFo"
      }
    },
    {
      "cell_type": "code",
      "source": [
        "y2 = \"1/11/1997 1991 2000 1969 1999 1998 1993 1996 1999 1997 1996 1998 1995 1999 1999 1997 1996 1996 1997 1995 1997 1999 2000\"\n",
        "\n",
        "print(\"Birth years of students:\",y2)"
      ],
      "metadata": {
        "id": "RjeXTybytjB7",
        "outputId": "cd15869f-2c76-4457-f803-e64eccfd795d",
        "colab": {
          "base_uri": "https://localhost:8080/"
        }
      },
      "execution_count": 21,
      "outputs": [
        {
          "output_type": "stream",
          "name": "stdout",
          "text": [
            "Birth years of students: 1/11/1997 1991 2000 1969 1999 1998 1993 1996 1999 1997 1996 1998 1995 1999 1999 1997 1996 1996 1997 1995 1997 1999 2000\n"
          ]
        }
      ]
    },
    {
      "cell_type": "code",
      "source": [
        "yl=y2.split(\" \")\n",
        "print(yl)"
      ],
      "metadata": {
        "id": "UrH7zi_VttZk",
        "outputId": "b5ae7b62-8025-4fa1-9f2b-662c2e0cb717",
        "colab": {
          "base_uri": "https://localhost:8080/"
        }
      },
      "execution_count": 23,
      "outputs": [
        {
          "output_type": "stream",
          "name": "stdout",
          "text": [
            "['1/11/1997', '1991', '2000', '1969', '1999', '1998', '1993', '1996', '1999', '1997', '1996', '1998', '1995', '1999', '1999', '1997', '1996', '1996', '1997', '1995', '1997', '1999', '2000']\n"
          ]
        }
      ]
    },
    {
      "cell_type": "code",
      "source": [
        "yl[0] = \"1997\"\n",
        "print(yl)"
      ],
      "metadata": {
        "id": "XhnlSgnatvvX",
        "outputId": "01b8c933-fc89-4be3-d2ad-730c3084db74",
        "colab": {
          "base_uri": "https://localhost:8080/"
        }
      },
      "execution_count": 24,
      "outputs": [
        {
          "output_type": "stream",
          "name": "stdout",
          "text": [
            "['1997', '1991', '2000', '1969', '1999', '1998', '1993', '1996', '1999', '1997', '1996', '1998', '1995', '1999', '1999', '1997', '1996', '1996', '1997', '1995', '1997', '1999', '2000']\n"
          ]
        }
      ]
    },
    {
      "cell_type": "code",
      "source": [
        "from datetime import date\n",
        "\n",
        "current_year = date.today().year\n",
        "print(current_year)\n",
        "\n",
        "total_age = 0\n",
        "for birthyear in yl :\n",
        "  age = current_year - int(birthyear)\n",
        "  total_age=age + total_age\n",
        "\n",
        "print(\"Total age is \",total_age)"
      ],
      "metadata": {
        "id": "GtLHugZeuL5w",
        "outputId": "3392efd2-4fa4-4240-c69b-b47a26e994ac",
        "colab": {
          "base_uri": "https://localhost:8080/"
        }
      },
      "execution_count": 25,
      "outputs": [
        {
          "output_type": "stream",
          "name": "stdout",
          "text": [
            "2022\n",
            "Total age is  603\n"
          ]
        }
      ]
    },
    {
      "cell_type": "code",
      "source": [
        "avg_age = total_age/len(years_list)\n",
        "print(\"average age is\",avg_age)"
      ],
      "metadata": {
        "id": "ha6qroZ8uSdb",
        "outputId": "cb81d64a-4bb4-40fc-ca73-b08ee021d516",
        "colab": {
          "base_uri": "https://localhost:8080/"
        }
      },
      "execution_count": 26,
      "outputs": [
        {
          "output_type": "stream",
          "name": "stdout",
          "text": [
            "average age is 26.217391304347824\n"
          ]
        }
      ]
    },
    {
      "cell_type": "markdown",
      "source": [
        "#Approach 3 - Handle exception"
      ],
      "metadata": {
        "id": "jCkAi2mzuXQS"
      }
    },
    {
      "cell_type": "code",
      "source": [
        "years = \"1/11/1997 1991 2000 1969 1999 1998 1993 1996 1999 1997 1996 1998 1995 1999 1999 1997 1996 1996 1997 1995 1997 1999 2000\"\n",
        "\n",
        "print(\"Birth years of students:\",years)\n",
        "\n",
        "from datetime import date\n",
        "\n",
        "current_year = date.today().year\n",
        "print(current_year)\n",
        "\n",
        "years_list=years.split(\" \")\n",
        "print(years_list)\n",
        "\n",
        "total_age = 0\n",
        "for birthyear in yl :\n",
        "  age = current_year - int(birthyear)\n",
        "  total_age=age + total_age\n",
        "\n",
        "print(\"Total age is \",total_age)\n"
      ],
      "metadata": {
        "id": "gJ9p8CVuucw1"
      },
      "execution_count": null,
      "outputs": []
    }
  ]
}