{
  "nbformat": 4,
  "nbformat_minor": 0,
  "metadata": {
    "colab": {
      "provenance": [],
      "authorship_tag": "ABX9TyPvtNK0E+xmZjjT0o9dAYCf",
      "include_colab_link": true
    },
    "kernelspec": {
      "name": "python3",
      "display_name": "Python 3"
    },
    "language_info": {
      "name": "python"
    }
  },
  "cells": [
    {
      "cell_type": "markdown",
      "metadata": {
        "id": "view-in-github",
        "colab_type": "text"
      },
      "source": [
        "<a href=\"https://colab.research.google.com/github/sowmith8899/data690_skola2/blob/main/assignment_02/690_session_02.ipynb\" target=\"_parent\"><img src=\"https://colab.research.google.com/assets/colab-badge.svg\" alt=\"Open In Colab\"/></a>"
      ]
    },
    {
      "cell_type": "markdown",
      "source": [
        "# 690 DATA SESSION 2\n",
        "- Name : Sowmith Kola\n",
        "- Date : 09/09/2022 "
      ],
      "metadata": {
        "id": "NseGYGeGdRnK"
      }
    },
    {
      "cell_type": "code",
      "execution_count": 1,
      "metadata": {
        "id": "hmUy3RTKc2o1",
        "outputId": "1626dd45-4db6-4cd4-9079-506dfb08ca5a",
        "colab": {
          "base_uri": "https://localhost:8080/"
        }
      },
      "outputs": [
        {
          "output_type": "stream",
          "name": "stdout",
          "text": [
            "Birth years of students 1/11/1997 1991 2000 1969 1999 1998 1993 1996 1999 1997 1996 1998 1995 1999 1999 1997 1996 1996 1997 1995 1997 1999 2000\n"
          ]
        }
      ],
      "source": [
        "years = \"1/11/1997 1991 2000 1969 1999 1998 1993 1996 1999 1997 1996 1998 1995 1999 1999 1997 1996 1996 1997 1995 1997 1999 2000\"\n",
        "\n",
        "print(\"Birth years of students:\",years)"
      ]
    },
    {
      "cell_type": "code",
      "source": [
        "type(years)"
      ],
      "metadata": {
        "id": "THPoftjMfcBU",
        "outputId": "95764bda-a967-4dbf-ca12-a5720d711cbd",
        "colab": {
          "base_uri": "https://localhost:8080/"
        }
      },
      "execution_count": 2,
      "outputs": [
        {
          "output_type": "execute_result",
          "data": {
            "text/plain": [
              "str"
            ]
          },
          "metadata": {},
          "execution_count": 2
        }
      ]
    },
    {
      "cell_type": "code",
      "source": [
        "years_list=years.split(\" \")\n",
        "print(years_list)"
      ],
      "metadata": {
        "id": "TdLtVaOlfhDY",
        "outputId": "ee4636b9-3e8a-42f6-e53e-df9a46579779",
        "colab": {
          "base_uri": "https://localhost:8080/"
        }
      },
      "execution_count": 4,
      "outputs": [
        {
          "output_type": "stream",
          "name": "stdout",
          "text": [
            "['1/11/1997', '1991', '2000', '1969', '1999', '1998', '1993', '1996', '1999', '1997', '1996', '1998', '1995', '1999', '1999', '1997', '1996', '1996', '1997', '1995', '1997', '1999', '2000']\n"
          ]
        }
      ]
    },
    {
      "cell_type": "code",
      "source": [],
      "metadata": {
        "id": "h9kmlPezhxrN"
      },
      "execution_count": null,
      "outputs": []
    },
    {
      "cell_type": "code",
      "source": [
        "x=[\"Jay\",\"James\",\"Jayson\",\"Libin\"]\n",
        "type(x)"
      ],
      "metadata": {
        "id": "pk3fflJ5fy-k",
        "outputId": "c64b70a6-1055-4e5b-f800-f0ed375a9603",
        "colab": {
          "base_uri": "https://localhost:8080/"
        }
      },
      "execution_count": 5,
      "outputs": [
        {
          "output_type": "execute_result",
          "data": {
            "text/plain": [
              "list"
            ]
          },
          "metadata": {},
          "execution_count": 5
        }
      ]
    },
    {
      "cell_type": "code",
      "source": [
        "y=[2.4,12,-7,11,6]\n",
        "type(y)"
      ],
      "metadata": {
        "id": "3TKfYQeghDmO",
        "outputId": "1c413dfe-f752-454b-f96a-7c7d7b90e713",
        "colab": {
          "base_uri": "https://localhost:8080/"
        }
      },
      "execution_count": 6,
      "outputs": [
        {
          "output_type": "execute_result",
          "data": {
            "text/plain": [
              "list"
            ]
          },
          "metadata": {},
          "execution_count": 6
        }
      ]
    },
    {
      "cell_type": "code",
      "source": [
        "total=0\n",
        "for num in y :\n",
        "  total = total+num\n",
        "print(\"Sum of y is\",total)\n",
        "\n",
        "print(\"Size of the list is \",len(y))\n",
        "\n",
        "print(\"Average is \",total/len(y))"
      ],
      "metadata": {
        "id": "-gfZlPC3hL-F",
        "outputId": "60df864e-1623-4d2e-906d-f05fafff4754",
        "colab": {
          "base_uri": "https://localhost:8080/"
        }
      },
      "execution_count": 7,
      "outputs": [
        {
          "output_type": "stream",
          "name": "stdout",
          "text": [
            "Sum of y is 24.4\n",
            "Size of the list is  5\n",
            "Average is  4.88\n"
          ]
        }
      ]
    }
  ]
}