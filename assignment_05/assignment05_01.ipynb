{
  "nbformat": 4,
  "nbformat_minor": 0,
  "metadata": {
    "colab": {
      "provenance": [],
      "authorship_tag": "ABX9TyN0o+XUYJkMg+Zgigtrdyxa",
      "include_colab_link": true
    },
    "kernelspec": {
      "name": "python3",
      "display_name": "Python 3"
    },
    "language_info": {
      "name": "python"
    }
  },
  "cells": [
    {
      "cell_type": "markdown",
      "metadata": {
        "id": "view-in-github",
        "colab_type": "text"
      },
      "source": [
        "<a href=\"https://colab.research.google.com/github/sowmith8899/data690_skola2/blob/main/assignment_05/assignment05_01.ipynb\" target=\"_parent\"><img src=\"https://colab.research.google.com/assets/colab-badge.svg\" alt=\"Open In Colab\"/></a>"
      ]
    },
    {
      "cell_type": "markdown",
      "source": [
        "## Assignment 5\n",
        "\n",
        "### 1) What is Data Analysis ?"
      ],
      "metadata": {
        "id": "tvsXj03N2KIR"
      }
    },
    {
      "cell_type": "markdown",
      "source": [
        "### Defination :\n",
        "\n",
        "*   A process of inspecting, cleansing, transforming and modeling data with the goal of discovering useful information, informing conclusion and supporting decision-making.\n",
        "\n"
      ],
      "metadata": {
        "id": "w7HC267k2lja"
      }
    },
    {
      "cell_type": "markdown",
      "source": [
        "### Platforms used for analysis : \n",
        "\n",
        "*   **Auto-Managed Closed Tools:**  Qlik, Tableau, Looker, Zoho Analytics\n",
        "*   **Programming Languages/Open tools:**  Python, R, Julia\n",
        "\n"
      ],
      "metadata": {
        "id": "kTDevmOG2329"
      }
    },
    {
      "cell_type": "markdown",
      "source": [
        "### Why python over others ?\n",
        "\n",
        "*   very simple and intuitive to learn\n",
        "*   powerful inbuilt libraries \n",
        "*   open source and clean API documentation\n",
        "\n"
      ],
      "metadata": {
        "id": "FqYt9wfc3w7d"
      }
    },
    {
      "cell_type": "markdown",
      "source": [
        "### Stages of Data Analysis :\n",
        "\n",
        "```\n",
        "Data Extraction -> Data Cleaning -> Data Wrangling -> Analysis -> Action\n",
        "```\n",
        "\n"
      ],
      "metadata": {
        "id": "DzFHxbFe5BAu"
      }
    },
    {
      "cell_type": "markdown",
      "source": [
        "### Important Libraries used : \n",
        "* **pandas**: The cornerstone of our Data Analysis job with Python\n",
        "* **matplotlib**: The foundational library for visualizations. Other libraries we’ll use will be built on top of matplotlib.\n",
        "* **numpy**: The numeric library that serves as the foundation of all calculations in Python.\n",
        "* **seaborn**: A statistical visualization tool built on top of matplotlib.\n",
        "* **statsmodels**: A library with many advanced statistical functions.\n",
        "* **scipy**: Advanced scientific computing, including functions for optimization, * linear algebra, image processing and much more.\n",
        "* **scikit-learn**: The most popular machine learning library for Python (not deep learning)\n",
        "\n"
      ],
      "metadata": {
        "id": "43BVJA1q5X9k"
      }
    }
  ]
}